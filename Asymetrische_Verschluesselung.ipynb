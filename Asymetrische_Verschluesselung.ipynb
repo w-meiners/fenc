{
 "cells": [
  {
   "cell_type": "markdown",
   "metadata": {},
   "source": [
    "# Verschlüsselung und Entschlüsselung von Dateien"
   ]
  },
  {
   "cell_type": "markdown",
   "metadata": {},
   "source": [
    "Im folgenden wird gezeigt, wie die Datei `file_encryption.py` genutzt werden kann, um Dateien zu verschlüsseln und zu entschlüsseln.\n",
    "\n",
    "Dazu wird asymmetrische Verschlüsselung benutzt. Das ist ein Verfahren, bei dem beide Beteiligte an einer Kommunikation jeweils einen privaten Schlüssel besitzen, den sie geheim halten müssen. Zu jedem privaten Schlüssel gehört ein öffentlicher Schlüssel. \n",
    "\n",
    "Diese öffentlichen Schlüssel müssen nicht geheim gehalten werden, sondern können an jeden beliebigen Kommunikationspartner verteilt werden. \n",
    "\n",
    "Für eine geheime Kommunikation zwischen den Partnern 1 und 2 gibt es dann zwei Schlüsselpaare\n",
    "\n",
    "`s_1,p_2`\n",
    "\n",
    "sowie\n",
    "\n",
    "`s_2,p_1`\n",
    "\n",
    "Dabei steht `s` für secret und `p` für public."
   ]
  },
  {
   "cell_type": "markdown",
   "metadata": {},
   "source": [
    "Daten, die mit dem Schlüsselpaar `s_1,p_2` verschlüsselt werden, können mit dem Schlüsselpaar `s_2,p_1` wieder entschlüsselt werden. Umgekehrt werden Daten, die mit dem Schlüsselpaar `s_2,p_1` verschlüsselt wurden mit dem Schlüsselpaar `s_1,p_2` wieder entschlüsselt."
   ]
  },
  {
   "cell_type": "markdown",
   "metadata": {},
   "source": [
    "Das bedeutet, jeder Kommunikationspartner muss sich nur ein Geheimnis merken, nämlich seinen privaten Schlüssel `s`. Den daraus resultierenden öffentlichen Schlüssel `p` muss er mit allen Kommunikationspartnern teilen. Das kann zum Beispiel durch Veröffentlichung auf der Homepage, auf einer Visitenkarte, per Email, SMS oder mit einem beliebigen Messenger geschehen.\n",
    "\n",
    "Nach dem Austausch der öffentlichen Schlüssel sollte noch einmal verifiziert werden, dass der öffentliche Schlüssel tatsächlich der richtigen Person zugeordnet wird."
   ]
  },
  {
   "cell_type": "markdown",
   "metadata": {},
   "source": [
    "Im folgenden wird dies anhand der Kommunikationspartner **Alice** und **Bob** exemplarisch durchgeführt:"
   ]
  },
  {
   "cell_type": "code",
   "execution_count": 1,
   "metadata": {},
   "outputs": [],
   "source": [
    "from file_encryption import (\n",
    "    create_keys, \n",
    "    read_secret_key, \n",
    "    read_public_key, \n",
    "    encrypt, \n",
    "    decrypt\n",
    ")"
   ]
  },
  {
   "cell_type": "markdown",
   "metadata": {},
   "source": [
    "## Schlüsselverzeichnisse anlegen"
   ]
  },
  {
   "cell_type": "markdown",
   "metadata": {},
   "source": [
    "### Schlüsselverzeichnis für Alice"
   ]
  },
  {
   "cell_type": "code",
   "execution_count": 2,
   "metadata": {},
   "outputs": [],
   "source": [
    "path = '.alices_keys' # verstecktes Verzeichnis\n",
    "secret_key = 'secret_key' # Name des geheimen Schlüssels\n",
    "public_key = secret_key+'.pub' # Name des eigenen öffentlichen Schlüssels"
   ]
  },
  {
   "cell_type": "markdown",
   "metadata": {},
   "source": [
    "wenn der Pfad `.alice` schon existiert, wird er gelöscht und mit den passenden Berechtigungen neu angelegt.\n",
    "\n",
    "Diese Berechtigungen erlauben dem Besitzer des Verzeichnisses, dieses zu lesen, zu schreiben und auszuführen. Andere Nutzer dürfen dieses Verzeichnis weder lesen, noch darin schreiben oder es ausführen. Das wird durch die Angabe\n",
    "\n",
    "`drwx------`\n",
    "\n",
    "des Ausdrucks von `!ls -hal <Pfad>` dargestellt. Dabei steht `d` für directory, `r` für read, `w` für write und `x` für execute. Die Berechtigungen werden in der Reihenfolge `user|group|others` angegeben. \n",
    "\n",
    "Der Ausdruck\n",
    "\n",
    "`dr--r--r--`\n",
    "\n",
    "würde also auf ein Verzeichnis hinweisen, dass von allen (user,group,others) gelesen werden darf, aber in das niemand schreiben darf oder es ausführen darf."
   ]
  },
  {
   "cell_type": "markdown",
   "metadata": {},
   "source": [
    "Möchte man nur die Berechtigungen abbilden, so läßt man häufig das führende `d` weg, schreibt also einfach `r--r--r--`."
   ]
  },
  {
   "cell_type": "markdown",
   "metadata": {},
   "source": [
    "Eine gesetzte Berechtigung wird häufig durch die Binärzahl 1 angezeigt, eine fehlende Berechtigung durch die Binärzahl 0. Demnach wäre die Berechtigung `rwx------` durch die Binärzahl\n",
    "\n",
    "`0b111000000`\n",
    "\n",
    "dargestellt, die der Oktalzahl\n",
    "\n",
    "`0o700`\n",
    "\n",
    "entspricht."
   ]
  },
  {
   "cell_type": "code",
   "execution_count": 3,
   "metadata": {},
   "outputs": [],
   "source": [
    "import shutil\n",
    "import os"
   ]
  },
  {
   "cell_type": "code",
   "execution_count": 4,
   "metadata": {},
   "outputs": [],
   "source": [
    "if os.path.exists(path):\n",
    "    shutil.rmtree(path,ignore_errors=True)\n",
    "os.mkdir(path,mode=0o700)"
   ]
  },
  {
   "cell_type": "code",
   "execution_count": 5,
   "metadata": {},
   "outputs": [],
   "source": [
    "create_keys(os.path.join(path,secret_key))"
   ]
  },
  {
   "cell_type": "code",
   "execution_count": 6,
   "metadata": {},
   "outputs": [
    {
     "name": "stdout",
     "output_type": "stream",
     "text": [
      "insgesamt 16K\r\n",
      "drwx------ 2 adminloc adminloc 4,0K Aug  1 15:23 .\r\n",
      "drwxr-xr-x 8 adminloc adminloc 4,0K Aug  1 15:23 ..\r\n",
      "-rw------- 1 adminloc adminloc   64 Aug  1 15:23 secret_key\r\n",
      "-rw-r--r-- 1 adminloc adminloc   64 Aug  1 15:23 secret_key.pub\r\n"
     ]
    }
   ],
   "source": [
    "!ls -hal $path"
   ]
  },
  {
   "cell_type": "markdown",
   "metadata": {},
   "source": [
    "### Schlüsselverzeichnis für Bob"
   ]
  },
  {
   "cell_type": "code",
   "execution_count": 7,
   "metadata": {},
   "outputs": [],
   "source": [
    "path = '.bobs_keys'\n",
    "secret_key = 'secret_key'\n",
    "public_key = secret_key+'.pub'"
   ]
  },
  {
   "cell_type": "code",
   "execution_count": 8,
   "metadata": {},
   "outputs": [],
   "source": [
    "if os.path.exists(path):\n",
    "    shutil.rmtree(path,ignore_errors=True)\n",
    "os.mkdir(path,mode=0o700)"
   ]
  },
  {
   "cell_type": "code",
   "execution_count": 9,
   "metadata": {},
   "outputs": [],
   "source": [
    "create_keys(os.path.join(path,secret_key))"
   ]
  },
  {
   "cell_type": "code",
   "execution_count": 10,
   "metadata": {},
   "outputs": [
    {
     "name": "stdout",
     "output_type": "stream",
     "text": [
      "insgesamt 16K\r\n",
      "drwx------ 2 adminloc adminloc 4,0K Aug  1 15:24 .\r\n",
      "drwxr-xr-x 8 adminloc adminloc 4,0K Aug  1 15:24 ..\r\n",
      "-rw------- 1 adminloc adminloc   64 Aug  1 15:24 secret_key\r\n",
      "-rw-r--r-- 1 adminloc adminloc   64 Aug  1 15:24 secret_key.pub\r\n"
     ]
    }
   ],
   "source": [
    "!ls -hal $path"
   ]
  },
  {
   "cell_type": "markdown",
   "metadata": {},
   "source": [
    "Obwohl die Dateinamen in den Verzeichnissen `.alice` und `.bob` gleich aussehen, ist ihr Inhalt unterschiedlich.\n",
    "\n",
    "Da die geheimen Schlüssel geheim gehalten werden sollen, wird das nur an den öffentlichen Schlüsseln gezeigt. Öffentliche Schlüssel enden gewöhnlich mit dem Kürzel `.pub`."
   ]
  },
  {
   "cell_type": "code",
   "execution_count": 11,
   "metadata": {},
   "outputs": [
    {
     "name": "stdout",
     "output_type": "stream",
     "text": [
      "03a4b5800e0b62bfe32d95a10a12ddebb59162c0cdddc093c7388e3802de1065"
     ]
    }
   ],
   "source": [
    "!cat .alices_keys/secret_key.pub"
   ]
  },
  {
   "cell_type": "code",
   "execution_count": 12,
   "metadata": {},
   "outputs": [
    {
     "name": "stdout",
     "output_type": "stream",
     "text": [
      "392072c4dca6714c143e1c5b18433a764642a8578e4b698a1dd27d4e2e22815c"
     ]
    }
   ],
   "source": [
    "!cat .bobs_keys/secret_key.pub"
   ]
  },
  {
   "cell_type": "markdown",
   "metadata": {},
   "source": [
    "### Schlüsselaustausch von Alice und Bob:"
   ]
  },
  {
   "cell_type": "markdown",
   "metadata": {},
   "source": [
    "Alice und Bob müssen ihre öffentlichen Schlüssel (die auf `.pub` enden) austauschen. Dabei benennt Bob sinnvollerweise den öffentlichen Schlüssel von Alice mit `alice.pub`, und Alice nennt den öffentlichen Schlüssel von Bob `bob.pub`.\n",
    "\n",
    "Durch diese eindeutige Kennzeichnung können Alice und Bob sofort ihre privaten und öffentlichen Schlüssel richtig zuordnen."
   ]
  },
  {
   "cell_type": "code",
   "execution_count": 13,
   "metadata": {},
   "outputs": [],
   "source": [
    "!cp .alices_keys/secret_key.pub .bobs_keys/alice.pub"
   ]
  },
  {
   "cell_type": "code",
   "execution_count": 14,
   "metadata": {},
   "outputs": [],
   "source": [
    "!cp .bobs_keys/secret_key.pub .alices_keys/bob.pub"
   ]
  },
  {
   "cell_type": "code",
   "execution_count": 15,
   "metadata": {},
   "outputs": [
    {
     "name": "stdout",
     "output_type": "stream",
     "text": [
      ".alices_keys:\r\n",
      "insgesamt 20K\r\n",
      "drwx------ 2 adminloc adminloc 4,0K Aug  1 15:24 .\r\n",
      "drwxr-xr-x 8 adminloc adminloc 4,0K Aug  1 15:24 ..\r\n",
      "-rw-r--r-- 1 adminloc adminloc   64 Aug  1 15:24 bob.pub\r\n",
      "-rw------- 1 adminloc adminloc   64 Aug  1 15:23 secret_key\r\n",
      "-rw-r--r-- 1 adminloc adminloc   64 Aug  1 15:23 secret_key.pub\r\n",
      "\r\n",
      ".bobs_keys:\r\n",
      "insgesamt 20K\r\n",
      "drwx------ 2 adminloc adminloc 4,0K Aug  1 15:24 .\r\n",
      "drwxr-xr-x 8 adminloc adminloc 4,0K Aug  1 15:24 ..\r\n",
      "-rw-r--r-- 1 adminloc adminloc   64 Aug  1 15:24 alice.pub\r\n",
      "-rw------- 1 adminloc adminloc   64 Aug  1 15:24 secret_key\r\n",
      "-rw-r--r-- 1 adminloc adminloc   64 Aug  1 15:24 secret_key.pub\r\n"
     ]
    }
   ],
   "source": [
    "!ls -hal .alices_keys .bobs_keys"
   ]
  },
  {
   "cell_type": "markdown",
   "metadata": {},
   "source": [
    "### Eine Datei erstellen:"
   ]
  },
  {
   "cell_type": "markdown",
   "metadata": {},
   "source": [
    "Im folgenden wird eine kurze Datei erstellt, die Alice an Bob verschlüsselt übermitteln will."
   ]
  },
  {
   "cell_type": "code",
   "execution_count": 16,
   "metadata": {},
   "outputs": [],
   "source": [
    "with open('alices_text.txt', 'w') as f:\n",
    "    f.writelines(\n",
    "        ['Die erste Zeile\\n',\n",
    "         'Die zweite Zeile\\n',\n",
    "         'Ein paar Sonderzeichen: ÄÖÜ äöü ß[{|}]\\n']\n",
    "    )"
   ]
  },
  {
   "cell_type": "markdown",
   "metadata": {},
   "source": [
    "Zur Kontrolle wird die Datei ausgegeben:"
   ]
  },
  {
   "cell_type": "code",
   "execution_count": 17,
   "metadata": {},
   "outputs": [
    {
     "name": "stdout",
     "output_type": "stream",
     "text": [
      "Die erste Zeile\r\n",
      "Die zweite Zeile\r\n",
      "Ein paar Sonderzeichen: ÄÖÜ äöü ß[{|}]\r\n"
     ]
    }
   ],
   "source": [
    "!cat alices_text.txt"
   ]
  },
  {
   "cell_type": "markdown",
   "metadata": {},
   "source": [
    "### Verschlüsselung der Datei von Alice für Bob"
   ]
  },
  {
   "cell_type": "markdown",
   "metadata": {},
   "source": [
    "Um die Datei zu verschlüsseln, benötigt Alice ihren privaten Schlüssel und Bobs öffentlichen Schlüssel. Damit kann sie die Funktion \n",
    "\n",
    "`encrypt(secret_key, public_key, input, output)` \n",
    "\n",
    "aufrufen. \n",
    "\n",
    "Die Datei `input` soll verschlüsselt werden. \n",
    "\n",
    "Die Datei `output` endet entweder auf `'.encr'` oder auf `'.encr.gz'` und stellt das verschlüsselte Ergebnis dar. Bei der letzten Endung (`'.encr.gz'`) wird die Datei nicht nur verschlüsselt, sondern zusätzlich mit `gzip` komprimiert. Der Grund ist zum einen die Verkleinerung der Datei, zum anderen kennen Emailprogramme den Mime-Typ `gz`, können diese Datei also einem Dateityp zuordnen."
   ]
  },
  {
   "cell_type": "code",
   "execution_count": 18,
   "metadata": {},
   "outputs": [
    {
     "name": "stdout",
     "output_type": "stream",
     "text": [
      "-rw-r--r-- 1 adminloc adminloc  79 Aug  1 15:24 alices_text.txt\r\n",
      "-rw-r--r-- 1 adminloc adminloc 163 Aug  1 15:25 alices_text.txt.encr.gz\r\n"
     ]
    }
   ],
   "source": [
    "sk = read_secret_key('.alices_keys/secret_key')\n",
    "pk = read_public_key('.alices_keys/bob.pub')\n",
    "encrypt(sk,pk,'alices_text.txt','alices_text.txt.encr.gz')\n",
    "!ls -hal alices_text*"
   ]
  },
  {
   "cell_type": "markdown",
   "metadata": {},
   "source": [
    "Alice kann nun die Verschlüsselte Datei -z.B. per Email- an Bob senden, der sie dann entschlüsselt um sie wieder lesbar zu machen."
   ]
  },
  {
   "cell_type": "markdown",
   "metadata": {},
   "source": [
    "### Entschlüsselung der Datei durch Bob"
   ]
  },
  {
   "cell_type": "markdown",
   "metadata": {},
   "source": [
    "Bob muss wissen, dass die Datei von Alice kommt. Denn zur Entschlüsselung benötigt er seinen eigenen privaten Schlüssel und den öffentlichen Schlüssel von Alice. Sendet Alice die Datei z.B. per Email, sollte klar sein, dass diese von ihr verschlüsselt wurde. "
   ]
  },
  {
   "cell_type": "markdown",
   "metadata": {},
   "source": [
    "Mit seinem privaten Schlüssel und Alices öffentlichen Schlüssel kann Bob die Funktion\n",
    "\n",
    "`decrypt(secret_key,public_key,input,output)`\n",
    "\n",
    "aufrufen. Dabei hat die Datei `input` entweder die Endung `'.encr'` oder `'.encr.gz'`. \n",
    "\n",
    "Der Name `output` der Ausgabedatei kann frei gewählt werden. In der Regel entsteht er dadurch, dass die Endung weggelassen wird. \n",
    "\n",
    "So würde aus der Eingabedatei\n",
    "\n",
    "`input = 'a.txt.encr.gz'`\n",
    "\n",
    "die Ausgabedatei\n",
    "\n",
    "`output = 'a.txt'`\n",
    "\n",
    "werden. Es kann aber auch ein ganz anderer Name verwendet werden, z.B.\n",
    "\n",
    "`output = 'a_von_alice_<datum_des_heutigen_Tages>.txt'`\n",
    "\n",
    "Es empfiehlt sich in der Regel die ursprüngliche Endung (hier `'.txt'`) beizubehalten."
   ]
  },
  {
   "cell_type": "code",
   "execution_count": 19,
   "metadata": {},
   "outputs": [
    {
     "name": "stdout",
     "output_type": "stream",
     "text": [
      "-rw-r--r-- 1 adminloc adminloc 79 Aug  1 15:21 alices_entschluesselter_text.txt\r\n",
      "-rw-r--r-- 1 adminloc adminloc 79 Aug  1 15:24 alices_text.txt\r\n",
      "-rw-r--r-- 1 adminloc adminloc 79 Aug  1 15:25 bobs_encrypted_result.txt\r\n",
      "-rw-r--r-- 1 adminloc adminloc 79 Aug  1 15:17 bobs_nachricht_an_alice.txt\r\n",
      "-rw-r--r-- 1 adminloc adminloc 30 Aug  1 15:08 bobs_nachricht.txt\r\n",
      "-rw-r--r-- 1 adminloc adminloc 30 Aug  1 15:14 malories_result.txt\r\n"
     ]
    }
   ],
   "source": [
    "sk = read_secret_key('.bobs_keys/secret_key')\n",
    "pk = read_public_key('.bobs_keys/alice.pub')\n",
    "decrypt(sk,pk,'alices_text.txt.encr.gz','bobs_encrypted_result.txt')\n",
    "!ls -hal *.txt"
   ]
  },
  {
   "cell_type": "code",
   "execution_count": 20,
   "metadata": {},
   "outputs": [
    {
     "name": "stdout",
     "output_type": "stream",
     "text": [
      "Die erste Zeile\r\n",
      "Die zweite Zeile\r\n",
      "Ein paar Sonderzeichen: ÄÖÜ äöü ß[{|}]\r\n"
     ]
    }
   ],
   "source": [
    "!cat bobs_encrypted_result.txt"
   ]
  },
  {
   "cell_type": "markdown",
   "metadata": {},
   "source": [
    "### Der Man in the Middle Angriff"
   ]
  },
  {
   "cell_type": "markdown",
   "metadata": {},
   "source": [
    "Weiter oben wurde empfohlen, den Besitzer des öffentlichen Schlüssels zu verifizieren. Wurde der öffentliche Schlüssel im direkten Kontakt ausgetauscht, so kann man davon ausgehen, dass er korrekt ist.\n",
    "\n",
    "Wird der öffentliche Schlüssel aber per Email, Messenger oder auf irgendeine andere indirekte Weise ausgetauscht, so könnte ein Fälscher (Person 3, mit den Schlüsseln `s_3,p_3`) sich 'in die Mitte' schleichen. Nennen wir diesen dritten Kommunikationspartner Malori. Wenn es Malori gelingt, sich bei Alice als Bob auszugeben und sich bei Bob als Alice auszugeben, dann kann die Kommunikation so ablaufen:\n",
    "\n",
    "`Alice(sk_alice,pk_malori) <==> Malori(sk_malori,pk_alice)`\n",
    "\n",
    "`<=Klartext=>`\n",
    "\n",
    "`Malori(sk_malori,pk_bob)<==> Bob(sk_bob,pk_malori)`\n"
   ]
  },
  {
   "cell_type": "markdown",
   "metadata": {},
   "source": [
    "Die Nachricht von Alice kommt über Malori -verändert oder unverändert- bei Bob an. Weder Alice noch Bob können den Angriff bemerken, wenn sie einmal falsche öffentliche Schlüssel akzeptiert haben.\n",
    "\n",
    "Malori ist in der Lage, die Kommunikation zwischen Alice und Bob im Klartext mitzulesen und bei Bedarf zu verfälschen. Dies bezeichnet man als Man in the Middle Angriff."
   ]
  },
  {
   "cell_type": "markdown",
   "metadata": {},
   "source": [
    "### Schlüsselverzeichnis für Malori"
   ]
  },
  {
   "cell_type": "code",
   "execution_count": 21,
   "metadata": {},
   "outputs": [],
   "source": [
    "path = '.malories_keys'\n",
    "secret_key = 'secret_key'\n",
    "public_key = secret_key+'.pub'"
   ]
  },
  {
   "cell_type": "code",
   "execution_count": 22,
   "metadata": {},
   "outputs": [],
   "source": [
    "if os.path.exists(path):\n",
    "    shutil.rmtree(path,ignore_errors=True)\n",
    "os.mkdir(path,mode=0o700)"
   ]
  },
  {
   "cell_type": "code",
   "execution_count": 23,
   "metadata": {},
   "outputs": [],
   "source": [
    "create_keys(os.path.join(path,secret_key))"
   ]
  },
  {
   "cell_type": "code",
   "execution_count": 24,
   "metadata": {},
   "outputs": [
    {
     "name": "stdout",
     "output_type": "stream",
     "text": [
      "insgesamt 16K\r\n",
      "drwx------ 2 adminloc adminloc 4,0K Aug  1 15:25 .\r\n",
      "drwxr-xr-x 8 adminloc adminloc 4,0K Aug  1 15:25 ..\r\n",
      "-rw------- 1 adminloc adminloc   64 Aug  1 15:25 secret_key\r\n",
      "-rw-r--r-- 1 adminloc adminloc   64 Aug  1 15:25 secret_key.pub\r\n"
     ]
    }
   ],
   "source": [
    "!ls -hal $path"
   ]
  },
  {
   "cell_type": "markdown",
   "metadata": {},
   "source": [
    "### Malori hintergeht Alice und Bob:"
   ]
  },
  {
   "cell_type": "markdown",
   "metadata": {},
   "source": [
    "Dazu gibt er sich bei Alice als Bob aus und bei Bob als Alice:"
   ]
  },
  {
   "cell_type": "code",
   "execution_count": 25,
   "metadata": {},
   "outputs": [],
   "source": [
    "!cp .alices_keys/secret_key.pub .malories_keys/alice.pub\n",
    "!cp .bobs_keys/secret_key.pub .malories_keys/bob.pub"
   ]
  },
  {
   "cell_type": "code",
   "execution_count": 26,
   "metadata": {},
   "outputs": [],
   "source": [
    "!cp .malories_keys/secret_key.pub .alices_keys/bob.pub\n",
    "!cp .malories_keys/secret_key.pub .bobs_keys/alice.pub"
   ]
  },
  {
   "cell_type": "markdown",
   "metadata": {},
   "source": [
    "Bobs Nachricht an Alice:"
   ]
  },
  {
   "cell_type": "code",
   "execution_count": 27,
   "metadata": {},
   "outputs": [],
   "source": [
    "with open('bobs_nachricht.txt','w') as f:\n",
    "    f.writelines(['Heirate mich.\\n','Ich liebe Dich!\\n'])"
   ]
  },
  {
   "cell_type": "code",
   "execution_count": 28,
   "metadata": {},
   "outputs": [],
   "source": [
    "sk = read_secret_key('.bobs_keys/secret_key')\n",
    "pk = read_public_key('.bobs_keys/alice.pub')\n",
    "encrypt(sk,pk,'bobs_nachricht.txt','bobs_nachricht.txt.encr')"
   ]
  },
  {
   "cell_type": "markdown",
   "metadata": {},
   "source": [
    "Malori entschlüsselt die Nachricht von Bob und liest sie:"
   ]
  },
  {
   "cell_type": "code",
   "execution_count": 29,
   "metadata": {},
   "outputs": [
    {
     "name": "stdout",
     "output_type": "stream",
     "text": [
      "Heirate mich.\r\n",
      "Ich liebe Dich!\r\n"
     ]
    }
   ],
   "source": [
    "sk = read_secret_key('.malories_keys/secret_key')\n",
    "pk = read_public_key('.malories_keys/bob.pub')\n",
    "decrypt(sk,pk,'bobs_nachricht.txt.encr','malories_result.txt')\n",
    "!cat 'malories_result.txt'"
   ]
  },
  {
   "cell_type": "markdown",
   "metadata": {},
   "source": [
    "Es kommt, wie es kommen muss:"
   ]
  },
  {
   "cell_type": "code",
   "execution_count": 30,
   "metadata": {},
   "outputs": [],
   "source": [
    "with open('bobs_nachricht_an_alice.txt', 'w') as f:\n",
    "    f.writelines(\n",
    "        [\n",
    "            'Ich weiß alles über Dich!\\n',\n",
    "            'Ich hasse Dich\\n',\n",
    "            'Ich will nichts mehr von Dir wissen!'\n",
    "        ]\n",
    "    )"
   ]
  },
  {
   "cell_type": "code",
   "execution_count": 31,
   "metadata": {},
   "outputs": [],
   "source": [
    "pk = read_public_key('.malories_keys/alice.pub')\n",
    "encrypt(sk,pk,'bobs_nachricht_an_alice.txt','bobs_nachricht_an_alice.txt.encr')"
   ]
  },
  {
   "cell_type": "markdown",
   "metadata": {},
   "source": [
    "Alice entschlüsselt den von Malori verfälschten Text und liest ihn:"
   ]
  },
  {
   "cell_type": "code",
   "execution_count": 32,
   "metadata": {},
   "outputs": [
    {
     "name": "stdout",
     "output_type": "stream",
     "text": [
      "Ich weiß alles über Dich!\r\n",
      "Ich hasse Dich\r\n",
      "Ich will nichts mehr von Dir wissen!"
     ]
    }
   ],
   "source": [
    "sk = read_secret_key('.alices_keys/secret_key')\n",
    "pk = read_public_key('.alices_keys/bob.pub')\n",
    "decrypt(sk,pk,'bobs_nachricht_an_alice.txt.encr','alices_entschluesselter_text.txt')\n",
    "!cat alices_entschluesselter_text.txt"
   ]
  }
 ],
 "metadata": {
  "kernelspec": {
   "display_name": "Python 3",
   "language": "python",
   "name": "python3"
  },
  "language_info": {
   "codemirror_mode": {
    "name": "ipython",
    "version": 3
   },
   "file_extension": ".py",
   "mimetype": "text/x-python",
   "name": "python",
   "nbconvert_exporter": "python",
   "pygments_lexer": "ipython3",
   "version": "3.7.3"
  }
 },
 "nbformat": 4,
 "nbformat_minor": 4
}
